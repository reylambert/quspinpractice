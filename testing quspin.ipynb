{
 "cells": [
  {
   "cell_type": "code",
   "execution_count": 1,
   "metadata": {},
   "outputs": [],
   "source": [
    "from quspin.operators import hamiltonian # Hamiltonians and operators\n",
    "from quspin.basis import spin_basis_1d # Hilbert space spin basis\n",
    "from quspin.tools.measurements import obs_vs_time #expectation vals over time\n",
    "import numpy as np #various maths"
   ]
  },
  {
   "cell_type": "code",
   "execution_count": 43,
   "metadata": {},
   "outputs": [],
   "source": [
    "#constant parameters\n",
    "L = 5   #system size\n",
    "J = 5.0 #coupling strength\n",
    "g = .5  #z field strength"
   ]
  },
  {
   "cell_type": "code",
   "execution_count": 44,
   "metadata": {},
   "outputs": [],
   "source": [
    "#site-coupling lists\n",
    "J_zz=[[J,i,(i+1)%L] for i in range(L)] #J*S_z*S'_z\n",
    "z_field = [[g, i] for i in range(L)]"
   ]
  },
  {
   "cell_type": "code",
   "execution_count": 45,
   "metadata": {},
   "outputs": [],
   "source": [
    "#static and dynamic components of H\n",
    "static_1 = [[\"z\",z_field]]\n",
    "static_2=[[\"zz\",J_zz],[\"z\",z_field]]\n",
    "dynamic  = []"
   ]
  },
  {
   "cell_type": "code",
   "execution_count": 46,
   "metadata": {},
   "outputs": [
    {
     "name": "stdout",
     "output_type": "stream",
     "text": [
      "Hermiticity check passed!\n",
      "Symmetry checks passed!\n",
      "Hermiticity check passed!\n",
      "Symmetry checks passed!\n"
     ]
    }
   ],
   "source": [
    "#create spin-1/2 basis\n",
    "basis = spin_basis_1d(L)\n",
    "#create H\n",
    "H1 = hamiltonian(static_1, dynamic, basis=basis, dtype=np.float64)\n",
    "H2 = hamiltonian(static_2, dynamic, basis=basis, dtype=np.float64)"
   ]
  },
  {
   "cell_type": "code",
   "execution_count": 55,
   "metadata": {},
   "outputs": [],
   "source": [
    "#compute e'states and e'vals of H\n",
    "E1, V1 = H1.eigh()\n",
    "E2, V2 = H2.eigh()"
   ]
  },
  {
   "cell_type": "code",
   "execution_count": 56,
   "metadata": {},
   "outputs": [],
   "source": [
    "psi1=V1[:,L] # pick any state as initial state\n",
    "# time-evolve state under H2\n",
    "times=np.linspace(0.0,5.0,10)\n",
    "psi1_t=H2.evolve(psi1,0.0,times,iterate=True)"
   ]
  },
  {
   "cell_type": "code",
   "execution_count": 57,
   "metadata": {},
   "outputs": [
    {
     "name": "stdout",
     "output_type": "stream",
     "text": [
      "Output keys are same as input keys: dict_keys(['E1', 'E2', 'psi_t'])\n"
     ]
    }
   ],
   "source": [
    "# calculate expectation values of observables\n",
    "Obs_time=obs_vs_time(psi1_t,times,dict(E1=H1,E2=H2),return_state=True)\n",
    "print(\"Output keys are same as input keys:\", Obs_time.keys())\n",
    "E1_time=Obs_time['E1']\n",
    "psi_time=Obs_time['psi_t']"
   ]
  },
  {
   "cell_type": "code",
   "execution_count": null,
   "metadata": {},
   "outputs": [],
   "source": []
  },
  {
   "cell_type": "code",
   "execution_count": null,
   "metadata": {},
   "outputs": [],
   "source": []
  }
 ],
 "metadata": {
  "kernelspec": {
   "display_name": "Python 3",
   "language": "python",
   "name": "python3"
  },
  "language_info": {
   "codemirror_mode": {
    "name": "ipython",
    "version": 3
   },
   "file_extension": ".py",
   "mimetype": "text/x-python",
   "name": "python",
   "nbconvert_exporter": "python",
   "pygments_lexer": "ipython3",
   "version": "3.6.10"
  }
 },
 "nbformat": 4,
 "nbformat_minor": 4
}
