{
 "cells": [
  {
   "cell_type": "code",
   "execution_count": 1,
   "metadata": {},
   "outputs": [],
   "source": [
    "#goals: debug H.eigh(), expected gnd state info?\n",
    "# e'vects of H1 have factor of 0.707 instead of 1??"
   ]
  },
  {
   "cell_type": "code",
   "execution_count": 30,
   "metadata": {},
   "outputs": [],
   "source": [
    "from quspin.operators import hamiltonian\n",
    "from quspin.basis import spin_basis_general, tensor_basis\n",
    "from quspin.tools.measurements import obs_vs_time\n",
    "from fractions import Fraction\n",
    "import numpy as np\n",
    "from matplotlib import pyplot as plt\n",
    "\n",
    "import spinFuncts as sf"
   ]
  },
  {
   "cell_type": "code",
   "execution_count": 58,
   "metadata": {},
   "outputs": [],
   "source": [
    "N  = 1        #system size\n",
    "V  = 0        #coupling strength\n",
    "L  = [0, 0]   #lambda prefix, Jzz_i\n",
    "\n",
    "S1 = '1/2'\n",
    "S2 = '1/2'\n",
    "\n",
    "s1 = 1/2\n",
    "s2 = 1/2"
   ]
  },
  {
   "cell_type": "code",
   "execution_count": 59,
   "metadata": {},
   "outputs": [],
   "source": [
    "phi1 = 0\n",
    "z1   = .5\n",
    "phi2 = 0\n",
    "z2   = 0"
   ]
  },
  {
   "cell_type": "code",
   "execution_count": 60,
   "metadata": {},
   "outputs": [
    {
     "name": "stdout",
     "output_type": "stream",
     "text": [
      "Hermiticity check passed!\n",
      "Hermiticity check passed!\n",
      "Hermiticity check passed!\n",
      "Hermiticity check passed!\n",
      "Hermiticity check passed!\n",
      "Hermiticity check passed!\n"
     ]
    }
   ],
   "source": [
    "h1, h2 = sf.takeZphi (z1, phi1, z2, phi2)\n",
    "J1, J2, zz = sf.getJs(N, S1, S2, h1, h2)\n",
    "\n",
    "H1 = sf.H_ini(h1, h2, J1, J2)\n",
    "\n",
    "vals, vects = H1.eigh()"
   ]
  },
  {
   "cell_type": "code",
   "execution_count": 71,
   "metadata": {},
   "outputs": [
    {
     "name": "stdout",
     "output_type": "stream",
     "text": [
      "[0.61237244+0.j 0.        +0.j 0.70710678+0.j 0.35355339+0.j]\n",
      "-1.9999999999999973\n"
     ]
    }
   ],
   "source": [
    "print(vects[0])\n",
    "print(vals[0])"
   ]
  },
  {
   "cell_type": "code",
   "execution_count": 75,
   "metadata": {},
   "outputs": [
    {
     "name": "stdout",
     "output_type": "stream",
     "text": [
      "[-0.91855865+0.j -0.91855865+0.j -0.53033009+0.j -0.53033009+0.j]\n"
     ]
    }
   ],
   "source": [
    "#vects[i] is supposed to be the eigenvectors!! why isn't it returning itself\n",
    "print(H1.dot(vects[0]))"
   ]
  },
  {
   "cell_type": "code",
   "execution_count": 73,
   "metadata": {
    "scrolled": true
   },
   "outputs": [
    {
     "name": "stdout",
     "output_type": "stream",
     "text": [
      "[[-0.5      +0.j -1.       +0.j -0.8660254+0.j  0.       +0.j]\n",
      " [-1.       +0.j -0.5      +0.j  0.       +0.j -0.8660254+0.j]\n",
      " [-0.8660254+0.j  0.       +0.j  0.5      +0.j -1.       +0.j]\n",
      " [ 0.       +0.j -0.8660254+0.j -1.       +0.j  0.5      +0.j]]\n"
     ]
    }
   ],
   "source": [
    "print(H1.todense())"
   ]
  },
  {
   "cell_type": "code",
   "execution_count": null,
   "metadata": {},
   "outputs": [],
   "source": [
    "\n",
    "\n",
    "\n",
    "\n",
    "\n",
    "\n",
    "\n",
    "\n"
   ]
  },
  {
   "cell_type": "code",
   "execution_count": 47,
   "metadata": {
    "scrolled": true
   },
   "outputs": [
    {
     "name": "stdout",
     "output_type": "stream",
     "text": [
      "Hermiticity check passed!\n",
      "Hermiticity check passed!\n",
      "Hermiticity check passed!\n",
      "Hermiticity check passed!\n",
      "Hermiticity check passed!\n",
      "Hermiticity check passed!\n"
     ]
    }
   ],
   "source": [
    "phi1 = 0\n",
    "z1   = 0\n",
    "phi2 = 0\n",
    "z2   = 0\n",
    "\n",
    "h1, h2 = sf.takeZphi (z1, phi1, z2, phi2)\n",
    "J1, J2, Jzz = sf.getJs(N, S1, S2, h1, h2)\n",
    "\n",
    "H2 = sf.H_dyn(h1, h2, L, V, J1, J2, Jzz, s1, s2)\n",
    "times = np.linspace(0.0, 40.0, 500)\n",
    "\n",
    "v_t = H2.evolve(vects[1], t0=0, times=times)"
   ]
  },
  {
   "cell_type": "code",
   "execution_count": null,
   "metadata": {},
   "outputs": [],
   "source": []
  }
 ],
 "metadata": {
  "kernelspec": {
   "display_name": "Python 3",
   "language": "python",
   "name": "python3"
  },
  "language_info": {
   "codemirror_mode": {
    "name": "ipython",
    "version": 3
   },
   "file_extension": ".py",
   "mimetype": "text/x-python",
   "name": "python",
   "nbconvert_exporter": "python",
   "pygments_lexer": "ipython3",
   "version": "3.6.12"
  }
 },
 "nbformat": 4,
 "nbformat_minor": 4
}
