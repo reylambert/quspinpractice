{
 "cells": [
  {
   "cell_type": "code",
   "execution_count": 1,
   "metadata": {},
   "outputs": [],
   "source": [
    "from quspin.operators import hamiltonian\n",
    "from quspin.basis import spin_basis_general, tensor_basis\n",
    "from quspin.tools.measurements import obs_vs_time\n",
    "import numpy as np"
   ]
  },
  {
   "cell_type": "code",
   "execution_count": 24,
   "metadata": {},
   "outputs": [],
   "source": [
    "#constant parameters\n",
    "N  = 1     #system size\n",
    "S1 = '1/2' #spin of 1\n",
    "S2 = '3/2' #spin of 2\n",
    "J  = 1.0   #coupling strength\n",
    "\n",
    "h1 = 0.5   #field strength/magnitude 1\n",
    "h2 = 0.5   ##field strength/magnitude 2"
   ]
  },
  {
   "cell_type": "code",
   "execution_count": 3,
   "metadata": {},
   "outputs": [],
   "source": [
    "def makeBasis(N, S1, S2):\n",
    "    basis1 = spin_basis_general(N=N, S=S1)\n",
    "    basis2 = spin_basis_general(N=N, S=S2)\n",
    "    basis  = tensor_basis(basis1, basis2)\n",
    "    return basis\n",
    "\n",
    "def spinOps(h1, h2, theta, phi, basis):    \n",
    "    zComp1 = h1*np.cos(theta)               #static comp. for 1\n",
    "    xComp1 = h1*np.sin(theta)*np.cos(phi)\n",
    "    yComp1 = h1*np.sin(theta)*np.sin(phi)\n",
    "        \n",
    "    minus1 = [xComp1/2 - 1j*yComp1/2, 0]\n",
    "    plus1  = [xComp1/2 + 1j*yComp1/2, 0]\n",
    "    \n",
    "    zComp2 = h2*np.cos(theta)               #static comp. for 2\n",
    "    xComp2 = h2*np.sin(theta)*np.cos(phi)\n",
    "    yComp2 = h2*np.sin(theta)*np.sin(phi)\n",
    "    \n",
    "    minus2 = [xComp2/2 - 1j*yComp2/2, 0]\n",
    "    plus2  = [xComp2/2 + 1j*yComp2/2, 0]\n",
    "    \n",
    "    static1 = [\n",
    "        [\"z|\",[[zComp1, 0]]],   #z comp 1\n",
    "        [\"-|\", [minus1]],       #- op 1\n",
    "        [\"+|\", [plus1]],        #+ op 1\n",
    "    ]\n",
    "    \n",
    "    static2 =  [\n",
    "        [\"|z\",[[zComp2, 0]]],   #z comp 2\n",
    "        [\"|-\", [minus2]],       #- op 2\n",
    "        [\"|+\", [plus2]]         #+ op 2\n",
    "    ]\n",
    "    \n",
    "    H1 = hamiltonian(static1, [], dtype=np.complex128, basis=basis) #to make operators for 1\n",
    "    H2 = hamiltonian(static2, [], dtype=np.complex128, basis=basis) #to make operators for 2\n",
    "    \n",
    "    return H1, H2"
   ]
  },
  {
   "cell_type": "code",
   "execution_count": 25,
   "metadata": {},
   "outputs": [
    {
     "name": "stdout",
     "output_type": "stream",
     "text": [
      "Hermiticity check passed!\n",
      "Hermiticity check passed!\n",
      "Hermiticity check passed!\n",
      "Hermiticity check passed!\n",
      "Hermiticity check passed!\n",
      "Hermiticity check passed!\n"
     ]
    },
    {
     "name": "stderr",
     "output_type": "stream",
     "text": [
      "C:\\Users\\Rey\\miniconda3\\lib\\site-packages\\ipykernel_launcher.py:34: UserWarning: Test for symmetries not implemented for <class 'quspin.basis.tensor.tensor_basis'>, to turn off this warning set check_symm=False in hamiltonian\n",
      "C:\\Users\\Rey\\miniconda3\\lib\\site-packages\\ipykernel_launcher.py:34: UserWarning: Test for particle conservation not implemented for <class 'quspin.basis.tensor.tensor_basis'>, to turn off this warning set check_pcon=False in hamiltonian\n",
      "C:\\Users\\Rey\\miniconda3\\lib\\site-packages\\ipykernel_launcher.py:35: UserWarning: Test for symmetries not implemented for <class 'quspin.basis.tensor.tensor_basis'>, to turn off this warning set check_symm=False in hamiltonian\n",
      "C:\\Users\\Rey\\miniconda3\\lib\\site-packages\\ipykernel_launcher.py:35: UserWarning: Test for particle conservation not implemented for <class 'quspin.basis.tensor.tensor_basis'>, to turn off this warning set check_pcon=False in hamiltonian\n"
     ]
    }
   ],
   "source": [
    "basis = makeBasis(N, S1, S2)\n",
    "Jx_1, Jx_2 = spinOps(h1, h2, np.pi/2, 0, basis)\n",
    "Jy_1, Jy_2 = spinOps(h1, h2, np.pi/2, np.pi/2, basis)\n",
    "Jz_1, Jz_2 = spinOps(h1, h2, 0, 0, basis)"
   ]
  },
  {
   "cell_type": "code",
   "execution_count": 26,
   "metadata": {
    "scrolled": true
   },
   "outputs": [],
   "source": [
    "#make H directly out of Jx operators, same data type as hamiltonians returned by spinOps\n",
    "#H = -h1*Jx_1 - h2*Jx_2\n",
    "\n",
    "H = - h1*Jx_1 - h2*Jx_2"
   ]
  },
  {
   "cell_type": "code",
   "execution_count": 31,
   "metadata": {},
   "outputs": [
    {
     "name": "stdout",
     "output_type": "stream",
     "text": [
      "-0.6249999999999983\n",
      "[-0.25     -0.j  0.4330127+0.j -0.5      -0.j  0.       +0.j\n",
      "  0.5      -0.j  0.       +0.j  0.4330127-0.j  0.25     -0.j]\n"
     ]
    }
   ],
   "source": [
    "vals, vects = H.eigh()\n",
    "print(vals[0])\n",
    "print(vects[0])"
   ]
  },
  {
   "cell_type": "code",
   "execution_count": 7,
   "metadata": {},
   "outputs": [
    {
     "name": "stdout",
     "output_type": "stream",
     "text": [
      "[[ 0.70710678+0.j  0.        +0.j  0.        +0.j  0.        +0.j\n",
      "  -0.70710678-0.j  0.        +0.j  0.        +0.j  0.        +0.j]\n",
      " [ 0.        +0.j  0.        +0.j -0.70710678+0.j  0.        +0.j\n",
      "   0.        +0.j  0.70710678+0.j  0.        +0.j  0.        +0.j]\n",
      " [ 0.        +0.j  0.70710678+0.j  0.        +0.j  0.        +0.j\n",
      "   0.        +0.j  0.        +0.j -0.70710678-0.j  0.        +0.j]\n",
      " [ 0.        +0.j  0.        +0.j  0.        +0.j -0.70710678+0.j\n",
      "   0.        +0.j  0.        +0.j  0.        +0.j  0.70710678+0.j]\n",
      " [-0.70710678+0.j  0.        +0.j  0.        +0.j  0.        +0.j\n",
      "  -0.70710678+0.j  0.        +0.j  0.        +0.j  0.        +0.j]\n",
      " [ 0.        +0.j  0.        +0.j  0.70710678+0.j  0.        +0.j\n",
      "   0.        +0.j  0.70710678+0.j  0.        +0.j  0.        +0.j]\n",
      " [ 0.        +0.j -0.70710678+0.j  0.        +0.j  0.        +0.j\n",
      "   0.        +0.j  0.        +0.j -0.70710678+0.j  0.        +0.j]\n",
      " [ 0.        +0.j  0.        +0.j  0.        +0.j  0.70710678+0.j\n",
      "   0.        +0.j  0.        +0.j  0.        +0.j  0.70710678+0.j]]\n",
      "static mat: \n",
      "  (0, 1)\t(0.6928203230275509+0j)\n",
      "  (1, 0)\t(0.6928203230275509+0j)\n",
      "  (1, 2)\t(0.8+0j)\n",
      "  (2, 1)\t(0.8+0j)\n",
      "  (2, 3)\t(0.6928203230275509+0j)\n",
      "  (3, 2)\t(0.6928203230275509+0j)\n",
      "  (4, 5)\t(0.6928203230275509+0j)\n",
      "  (5, 4)\t(0.6928203230275509+0j)\n",
      "  (5, 6)\t(0.8+0j)\n",
      "  (6, 5)\t(0.8+0j)\n",
      "  (6, 7)\t(0.6928203230275509+0j)\n",
      "  (7, 6)\t(0.6928203230275509+0j)\n",
      "\n",
      "\n",
      "dynamic:\n",
      "\n"
     ]
    }
   ],
   "source": [
    "eVals, eVects = Jx_1.eigh()\n",
    "print(eVects)\n",
    "print(Jx_2)"
   ]
  },
  {
   "cell_type": "code",
   "execution_count": null,
   "metadata": {},
   "outputs": [],
   "source": []
  }
 ],
 "metadata": {
  "kernelspec": {
   "display_name": "Python 3",
   "language": "python",
   "name": "python3"
  },
  "language_info": {
   "codemirror_mode": {
    "name": "ipython",
    "version": 3
   },
   "file_extension": ".py",
   "mimetype": "text/x-python",
   "name": "python",
   "nbconvert_exporter": "python",
   "pygments_lexer": "ipython3",
   "version": "3.6.10"
  }
 },
 "nbformat": 4,
 "nbformat_minor": 4
}
