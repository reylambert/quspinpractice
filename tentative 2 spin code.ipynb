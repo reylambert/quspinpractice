{
 "cells": [
  {
   "cell_type": "code",
   "execution_count": 1,
   "metadata": {},
   "outputs": [],
   "source": [
    "from quspin.operators import hamiltonian\n",
    "from quspin.basis import spin_basis_general, tensor_basis\n",
    "from quspin.tools.measurements import obs_vs_time\n",
    "import numpy as np"
   ]
  },
  {
   "cell_type": "code",
   "execution_count": 2,
   "metadata": {},
   "outputs": [],
   "source": [
    "#constant parameters\n",
    "N  = 1     #system size\n",
    "S1 = '1/2' #spin of 1\n",
    "S2 = '3/2' #spin of 2\n",
    "J  = 1.0   #coupling strength\n",
    "\n",
    "h1 = 0.5   #field strength/magnitude 1\n",
    "h2 = 0.5   ##field strength/magnitude 2"
   ]
  },
  {
   "cell_type": "code",
   "execution_count": 8,
   "metadata": {},
   "outputs": [],
   "source": [
    "def makeBasis(N, S1, S2):\n",
    "    basis1 = spin_basis_general(N=N, S=S1)\n",
    "    basis2 = spin_basis_general(N=N, S=S2)\n",
    "    basis  = tensor_basis(basis1, basis2)\n",
    "    return basis\n",
    "\n",
    "def spinOps(h1, h2, theta, phi, basis):    \n",
    "    zComp1 = h1*np.cos(theta)\n",
    "    xComp1 = h1*np.sin(theta)*np.cos(phi)\n",
    "    yComp1 = h1*np.sin(theta)*np.sin(phi)\n",
    "        \n",
    "    minus1 = [xComp1/2 - 1j*yComp1/2, 0]\n",
    "    plus1  = [xComp1/2 + 1j*yComp1/2, 0]\n",
    "    \n",
    "    zComp2 = h2*np.cos(theta)\n",
    "    xComp2 = h2*np.sin(theta)*np.cos(phi)\n",
    "    yComp2 = h2*np.sin(theta)*np.sin(phi)\n",
    "    \n",
    "    minus2 = [xComp2/2 - 1j*yComp2/2, 0]\n",
    "    plus2  = [xComp2/2 + 1j*yComp2/2, 0]\n",
    "    \n",
    "    static = [\n",
    "        [\"z|\",[[zComp1, 0]]],   #z comp 1\n",
    "        [\"-|\", [minus1]],       #- op 1\n",
    "        [\"+|\", [plus1]],        #+ op 1\n",
    "        \n",
    "        [\"|z\",[[zComp2, 0]]],   #z comp 2\n",
    "        [\"|-\", [minus2]],       #- op 2\n",
    "        [\"|+\", [plus2]]         #+ op 2\n",
    "    ]\n",
    "    \n",
    "    H = hamiltonian(static, [], dtype=np.complex128, basis=basis)\n",
    "    return H"
   ]
  },
  {
   "cell_type": "code",
   "execution_count": 4,
   "metadata": {},
   "outputs": [
    {
     "name": "stdout",
     "output_type": "stream",
     "text": [
      "Hermiticity check passed!\n"
     ]
    },
    {
     "name": "stderr",
     "output_type": "stream",
     "text": [
      "C:\\Users\\Rey\\miniconda3\\lib\\site-packages\\ipykernel_launcher.py:32: UserWarning: Test for symmetries not implemented for <class 'quspin.basis.tensor.tensor_basis'>, to turn off this warning set check_symm=False in hamiltonian\n",
      "C:\\Users\\Rey\\miniconda3\\lib\\site-packages\\ipykernel_launcher.py:32: UserWarning: Test for particle conservation not implemented for <class 'quspin.basis.tensor.tensor_basis'>, to turn off this warning set check_pcon=False in hamiltonian\n"
     ]
    },
    {
     "name": "stdout",
     "output_type": "stream",
     "text": [
      "Hermiticity check passed!\n",
      "Hermiticity check passed!\n"
     ]
    },
    {
     "name": "stderr",
     "output_type": "stream",
     "text": [
      "C:\\Users\\Rey\\miniconda3\\lib\\site-packages\\ipykernel_launcher.py:32: UserWarning: Test for symmetries not implemented for <class 'quspin.basis.tensor.tensor_basis'>, to turn off this warning set check_symm=False in hamiltonian\n",
      "C:\\Users\\Rey\\miniconda3\\lib\\site-packages\\ipykernel_launcher.py:32: UserWarning: Test for particle conservation not implemented for <class 'quspin.basis.tensor.tensor_basis'>, to turn off this warning set check_pcon=False in hamiltonian\n"
     ]
    }
   ],
   "source": [
    "basis = makeBasis(N, S1, S2)\n",
    "Jx = spinOps(h1, h2, np.pi/2, 0, basis)\n",
    "Jy = spinOps(h1, h2, np.pi/2, np.pi/2, basis)\n",
    "Jz = spinOps(h1, h2, 0, 0, basis)"
   ]
  },
  {
   "cell_type": "code",
   "execution_count": 7,
   "metadata": {},
   "outputs": [
    {
     "ename": "TypeError",
     "evalue": "expecting scalar elements of indx",
     "output_type": "error",
     "traceback": [
      "\u001b[1;31m---------------------------------------------------------------------------\u001b[0m",
      "\u001b[1;31mTypeError\u001b[0m                                 Traceback (most recent call last)",
      "\u001b[1;32m<ipython-input-7-245d67c217a2>\u001b[0m in \u001b[0;36m<module>\u001b[1;34m\u001b[0m\n\u001b[0;32m      4\u001b[0m ]\n\u001b[0;32m      5\u001b[0m \u001b[1;33m\u001b[0m\u001b[0m\n\u001b[1;32m----> 6\u001b[1;33m \u001b[0mH\u001b[0m \u001b[1;33m=\u001b[0m \u001b[0mhamiltonian\u001b[0m\u001b[1;33m(\u001b[0m\u001b[0mstatic\u001b[0m\u001b[1;33m,\u001b[0m \u001b[1;33m[\u001b[0m\u001b[1;33m]\u001b[0m\u001b[1;33m,\u001b[0m \u001b[0mdtype\u001b[0m\u001b[1;33m=\u001b[0m\u001b[0mnp\u001b[0m\u001b[1;33m.\u001b[0m\u001b[0mcomplex128\u001b[0m\u001b[1;33m,\u001b[0m \u001b[0mbasis\u001b[0m\u001b[1;33m=\u001b[0m\u001b[0mbasis\u001b[0m\u001b[1;33m)\u001b[0m\u001b[1;33m\u001b[0m\u001b[1;33m\u001b[0m\u001b[0m\n\u001b[0m",
      "\u001b[1;32m~\\miniconda3\\lib\\site-packages\\quspin\\operators\\hamiltonian_core.py\u001b[0m in \u001b[0;36m__init__\u001b[1;34m(self, static_list, dynamic_list, N, basis, shape, dtype, static_fmt, dynamic_fmt, copy, check_symm, check_herm, check_pcon, **basis_kwargs)\u001b[0m\n\u001b[0;32m    265\u001b[0m                         \u001b[0mstatic_other_list\u001b[0m\u001b[1;33m=\u001b[0m\u001b[1;33m[\u001b[0m\u001b[1;33m]\u001b[0m\u001b[1;33m\u001b[0m\u001b[1;33m\u001b[0m\u001b[0m\n\u001b[0;32m    266\u001b[0m                         \u001b[1;32mfor\u001b[0m \u001b[0mele\u001b[0m \u001b[1;32min\u001b[0m \u001b[0mstatic_list\u001b[0m\u001b[1;33m:\u001b[0m\u001b[1;33m\u001b[0m\u001b[1;33m\u001b[0m\u001b[0m\n\u001b[1;32m--> 267\u001b[1;33m                                 \u001b[1;32mif\u001b[0m \u001b[0m_check_static\u001b[0m\u001b[1;33m(\u001b[0m\u001b[0mele\u001b[0m\u001b[1;33m)\u001b[0m\u001b[1;33m:\u001b[0m\u001b[1;33m\u001b[0m\u001b[1;33m\u001b[0m\u001b[0m\n\u001b[0m\u001b[0;32m    268\u001b[0m                                         \u001b[0mstatic_opstr_list\u001b[0m\u001b[1;33m.\u001b[0m\u001b[0mappend\u001b[0m\u001b[1;33m(\u001b[0m\u001b[0mele\u001b[0m\u001b[1;33m)\u001b[0m\u001b[1;33m\u001b[0m\u001b[1;33m\u001b[0m\u001b[0m\n\u001b[0;32m    269\u001b[0m                                 \u001b[1;32melse\u001b[0m\u001b[1;33m:\u001b[0m\u001b[1;33m\u001b[0m\u001b[1;33m\u001b[0m\u001b[0m\n",
      "\u001b[1;32m~\\miniconda3\\lib\\site-packages\\quspin\\operators\\hamiltonian_core.py\u001b[0m in \u001b[0;36m_check_static\u001b[1;34m(sub_list)\u001b[0m\n\u001b[0;32m    127\u001b[0m                                 \u001b[1;32mif\u001b[0m \u001b[1;33m(\u001b[0m\u001b[0mtype\u001b[0m\u001b[1;33m(\u001b[0m\u001b[0msub_sub_list\u001b[0m\u001b[1;33m)\u001b[0m \u001b[1;32min\u001b[0m \u001b[1;33m[\u001b[0m\u001b[0mlist\u001b[0m\u001b[1;33m,\u001b[0m\u001b[0mtuple\u001b[0m\u001b[1;33m]\u001b[0m\u001b[1;33m)\u001b[0m \u001b[1;32mand\u001b[0m \u001b[1;33m(\u001b[0m\u001b[0mlen\u001b[0m\u001b[1;33m(\u001b[0m\u001b[0msub_sub_list\u001b[0m\u001b[1;33m)\u001b[0m \u001b[1;33m>\u001b[0m \u001b[1;36m0\u001b[0m\u001b[1;33m)\u001b[0m\u001b[1;33m:\u001b[0m\u001b[1;33m\u001b[0m\u001b[1;33m\u001b[0m\u001b[0m\n\u001b[0;32m    128\u001b[0m                                         \u001b[1;32mfor\u001b[0m \u001b[0melement\u001b[0m \u001b[1;32min\u001b[0m \u001b[0msub_sub_list\u001b[0m\u001b[1;33m:\u001b[0m\u001b[1;33m\u001b[0m\u001b[1;33m\u001b[0m\u001b[0m\n\u001b[1;32m--> 129\u001b[1;33m                                                 \u001b[1;32mif\u001b[0m \u001b[1;32mnot\u001b[0m \u001b[0m_np\u001b[0m\u001b[1;33m.\u001b[0m\u001b[0misscalar\u001b[0m\u001b[1;33m(\u001b[0m\u001b[0melement\u001b[0m\u001b[1;33m)\u001b[0m\u001b[1;33m:\u001b[0m \u001b[1;32mraise\u001b[0m \u001b[0mTypeError\u001b[0m\u001b[1;33m(\u001b[0m\u001b[1;34m'expecting scalar elements of indx'\u001b[0m\u001b[1;33m)\u001b[0m\u001b[1;33m\u001b[0m\u001b[1;33m\u001b[0m\u001b[0m\n\u001b[0m\u001b[0;32m    130\u001b[0m                                 \u001b[1;32melse\u001b[0m\u001b[1;33m:\u001b[0m \u001b[1;32mraise\u001b[0m \u001b[0mTypeError\u001b[0m\u001b[1;33m(\u001b[0m\u001b[1;34m'expecting list for indx'\u001b[0m\u001b[1;33m)\u001b[0m\u001b[1;33m\u001b[0m\u001b[1;33m\u001b[0m\u001b[0m\n\u001b[0;32m    131\u001b[0m                 \u001b[1;32melse\u001b[0m\u001b[1;33m:\u001b[0m \u001b[1;32mraise\u001b[0m \u001b[0mTypeError\u001b[0m\u001b[1;33m(\u001b[0m\u001b[1;34m'expecting a list of one or more indx'\u001b[0m\u001b[1;33m)\u001b[0m\u001b[1;33m\u001b[0m\u001b[1;33m\u001b[0m\u001b[0m\n",
      "\u001b[1;31mTypeError\u001b[0m: expecting scalar elements of indx"
     ]
    }
   ],
   "source": [
    "static = [\n",
    "    [\"Jx|\", [[-Jx, 0]]],\n",
    "    [\"|Jx\", [[-Jx, 0]]]\n",
    "]\n",
    "\n",
    "H = hamiltonian(static, [], dtype=np.complex128, basis=basis)"
   ]
  },
  {
   "cell_type": "code",
   "execution_count": 24,
   "metadata": {},
   "outputs": [
    {
     "name": "stdout",
     "output_type": "stream",
     "text": [
      "[-2.75 -1.85 -1.75 -0.95 -0.85 -0.05  0.05  0.85  0.95  1.75  1.85  2.75]\n"
     ]
    }
   ],
   "source": [
    "Evals, Estates = Jx.eigh()\n",
    "print(Evals)"
   ]
  },
  {
   "cell_type": "code",
   "execution_count": null,
   "metadata": {},
   "outputs": [],
   "source": []
  }
 ],
 "metadata": {
  "kernelspec": {
   "display_name": "Python 3",
   "language": "python",
   "name": "python3"
  },
  "language_info": {
   "codemirror_mode": {
    "name": "ipython",
    "version": 3
   },
   "file_extension": ".py",
   "mimetype": "text/x-python",
   "name": "python",
   "nbconvert_exporter": "python",
   "pygments_lexer": "ipython3",
   "version": "3.6.10"
  }
 },
 "nbformat": 4,
 "nbformat_minor": 4
}
